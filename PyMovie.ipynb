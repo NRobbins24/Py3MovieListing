{
 "cells": [
  {
   "cell_type": "code",
   "execution_count": null,
   "metadata": {
    "collapsed": true
   },
   "outputs": [],
   "source": [
    "import os\n",
    "import codecs\n",
    "import json\n",
    "import urllib\n",
    "import argparse\n",
    "import webbrowser\n",
    "import logging\n",
    "import re\n",
    "import argparse\n",
    "import webbrowser\n",
    "import sys\n",
    "import pandas as pd\n",
    "from pymediainfo import MediaInfo\n",
    "from libs.html import *"
   ]
  },
  {
   "cell_type": "markdown",
   "metadata": {},
   "source": [
    "This function is used to clean up file names that may have dates, extraneous words in parentheses, etc. By normalizing the names, we hope to have greater success when querying the IMDB API."
   ]
  },
  {
   "cell_type": "code",
   "execution_count": null,
   "metadata": {
    "collapsed": true
   },
   "outputs": [],
   "source": [
    "def cleanTitle(filename):\n",
    "    title = re.sub(r'\\.(\\w|\\d){2,4}$',\"\",filename) #Remove file extension\n",
    "    title = re.sub(r'(\\(|\\[)(.*)(\\)|\\])',\"\",title) #Remove anything in parentheses or brackets\n",
    "    title = title.strip() #Trim Whitespace\n",
    "    return title    "
   ]
  },
  {
   "cell_type": "markdown",
   "metadata": {},
   "source": [
    "This function takes a directory name and ensure it ends with a slash (i.e., \"/\"). This keeps the later functions from throwing errors."
   ]
  },
  {
   "cell_type": "code",
   "execution_count": 1,
   "metadata": {
    "collapsed": true
   },
   "outputs": [],
   "source": [
    "def dirClean(directory_name):\n",
    "    if directory_name[-1] != \"/\":\n",
    "        directory_name = directory_name + \"/\"\n",
    "    return(directory_name)"
   ]
  },
  {
   "cell_type": "markdown",
   "metadata": {},
   "source": [
    "This function reads the names of files in a provided directory and then runs those files through the IMDB API to collect movie information.  The final output are two .csv files; one for movies that were found through the API and another for files that weren't found.  This function also checks against previous runs of the function to limit the number of API calls.  Finally, this function downloads and stores movie poster artwork for later use in web page construction."
   ]
  },
  {
   "cell_type": "code",
   "execution_count": 1,
   "metadata": {
    "collapsed": true
   },
   "outputs": [],
   "source": [
    "def crawl(source_dir):\n",
    "    source_dir = dirClean(source_dir)\n",
    "    \n",
    "    movie_list = os.listdir(source_dir)\n",
    "    \n",
    "    columns = ['ID','title','year','director','actors','plot','genre','poster','rating_imdb','rating_metacritic','rating_rotten','filename','filesize','duration','resolution','aspect']\n",
    "\n",
    "    #Attempt to load existing data. If it is not there, create empty dataframe instead\n",
    "    if os.path.exists(\"movieDF.csv\"):\n",
    "        movieDF = pd.read_csv(\"movieDF.csv\")\n",
    "        if os.path.exists(\"failedmovieDF.csv\"):\n",
    "            moviefailDF = pd.read_csv(\"failedmovieDF.csv\")\n",
    "        else:\n",
    "            moviefailDF = pd.DataFrame(columns = ['title'])\n",
    "    else: \n",
    "        movieDF = pd.DataFrame(columns=columns)\n",
    "        moviefailDF = pd.DataFrame(columns = ['title'])\n",
    "\n",
    "    for movie in movie_list:\n",
    "                # The following 2 lines may need to be hacked at dependent of naming\n",
    "                # Scheme. Or, a more dynamic solution may be needed to suffice.\n",
    "                movieInfo = pd.DataFrame(columns=columns)\n",
    "                title = cleanTitle(movie[0:])\n",
    "                print(title)\n",
    "                \n",
    "                #If movie is already in the dataframe than skip to the next iteration of the loop\n",
    "                if title in movieDF['title'].values:\n",
    "                    #If movie poster isn't downloaded, then download it based on stored URL\n",
    "                    if title + '.jpg' not in os.listdir(\"./pages/images/\"):\n",
    "                            filename = title\n",
    "                            os.system('wget -O \"pages/images/' + filename + '.jpg\" ' + movieDF.loc[movieDF['title'] == title, 'poster'].values[0])\n",
    "                    continue\n",
    "\n",
    "                \n",
    "                try:\n",
    "                    # Using API from http://www.omdbapi.com/\n",
    "                    url = \"http://www.omdbapi.com/?t=\" + urllib.parse.quote(title) + '&tomatoes=true'\n",
    "                    # Now dowloading and parsing the results as json file so we can work on it locally\n",
    "                    reader = codecs.getreader(\"utf-8\")\n",
    "                    data = json.load(reader(urllib.request.urlopen(url)))\n",
    "\n",
    "                    try:\n",
    "                        movie_imdbID = data[\"imdbID\"]\n",
    "                        movie_title = data[\"Title\"]\n",
    "                        movie_year = data[\"Year\"]\n",
    "                        movie_director = data[\"Director\"]\n",
    "                        movie_actors = data[\"Actors\"]\n",
    "                        movie_plot = data[\"Plot\"]\n",
    "                        movie_genre = data[\"Genre\"]\n",
    "                        movie_poster = data[\"Poster\"]\n",
    "                        \n",
    "                        #If poster file doesn't exist in image directory then download it based on API URL\n",
    "                        if title + '.jpg' not in os.listdir(\"./pages/images/\"):\n",
    "                            filename = title\n",
    "                            os.system('wget -O \"pages/images/' + filename + '.jpg\" ' + movie_poster)\n",
    "                        \n",
    "                        movie_rating_imdb = data[\"imdbRating\"]\n",
    "                        movie_rating_metacritic = data[\"Metascore\"]\n",
    "                        movie_rating_rotten = data[\"tomatoMeter\"]\n",
    "                        movie_filename = movie\n",
    "                        \n",
    "                        media_info = MediaInfo.parse(source_dir + movie)\n",
    "\n",
    "                        movie_filesize = media_info.tracks[0].other_file_size[0]\n",
    "                        movie_duration = media_info.tracks[0].other_duration[2]\n",
    "                        movie_resolution = str(media_info.tracks[1].sampled_width + \" * \" + media_info.tracks[1].sampled_height)\n",
    "                        movie_aspect = media_info.tracks[1].other_display_aspect_ratio[0]\n",
    "\n",
    "                        movieInfo.loc[1] = [movie_imdbID, movie_title, movie_year, movie_director, movie_actors, movie_plot, movie_genre,\n",
    "                                                  movie_poster, movie_rating_imdb, movie_rating_metacritic, movie_rating_rotten,\n",
    "                                            movie_filename, movie_filesize, movie_duration, movie_resolution, movie_aspect]\n",
    "\n",
    "                   \n",
    "                        movieDF = movieDF.append(movieInfo)\n",
    "                        print(\"Success - \" + movie)\n",
    "                        logging.info(\"Success - \" + movie)\n",
    "                        # Following line added for debugging the OMDBAPI Calls.\n",
    "                        print(\"URL: \" + url)\n",
    "                    except Exception as e:\n",
    "                        failMovie = pd.DataFrame(columns=['title'])\n",
    "                        failMovie.loc[1] = title\n",
    "                        moviefailDF = moviefailDF.append(failMovie)\n",
    "                        print(\"URL: \" + url)\n",
    "                        print(\"Failed - \" + movie)\n",
    "                        print(e)\n",
    "                        logging.info(\"Failed - \" + movie)\n",
    "                        pass\n",
    "                except Exception as e:\n",
    "                    print(e)\n",
    "    movieDF = movieDF.sort_values(by='title')\n",
    "    movieDF.to_csv('movieDF.csv',index=False)\n",
    "    moviefailDF.to_csv('failedmovieDF.csv',index=False)"
   ]
  },
  {
   "cell_type": "markdown",
   "metadata": {},
   "source": [
    "This function creates a website that has a main page that displays movie posters and names and then subpages for each movie that was successfully found through the IMDB API."
   ]
  },
  {
   "cell_type": "code",
   "execution_count": null,
   "metadata": {
    "collapsed": true
   },
   "outputs": [],
   "source": [
    "def htmlout(movie_file, source_dir):\n",
    "    movieDF = pd.read_csv(movie_file)\n",
    "    output_file = \"movies.html\"\n",
    "    try:\n",
    "        # Opening and generating final html (for example movies.html) file\n",
    "        html_file = open(output_file, \"w\")\n",
    "        html_file.write(header)\n",
    "        html_file.write('<div class=\"medium-12 columns\">')\n",
    "        html_file.write('<h1 style=\"color:white\">PyMovie Share</h1>')\n",
    "        html_file.write(\"<hr></div>\")\n",
    "        for index, row in movieDF.iterrows():\n",
    "            #html_file.write('<div class=\"row\">')\n",
    "            html_file.write('<div class=\"medium-3 columns\">')\n",
    "            html_file.write('<div class=\"panel\">')\n",
    "            html_file.write('<a href=\"file://' + os.getcwd() +'/pages/' + row['title'] + '.html\"><img src=\"pages/images/' + row['title'] + '.jpg\" style=\"height:100%;width:300px;box-shadow: 5px 5px 2px #474747\"></a>')\n",
    "            html_file.write('<center style=\"font-size:125%;padding: 10px\">' + row['title'] + '</center>')\n",
    "            html_file.write('</div></div>')\n",
    "\n",
    "        # Generate some stats at on the bottom of the html page\n",
    "        html_file.write('<div class=\"row\">')\n",
    "        html_file.write('<hr>')\n",
    "        html_file.write('<p> Directory scanned: ' + source_dir + '</p>')\n",
    "        html_file.write('<p> Success entries: ' + str(len(movieDF)) + '</p>')\n",
    "\n",
    "        html_file.write(footer)\n",
    "        html_file.close()\n",
    "        \n",
    "        for index, row in movieDF.iterrows():\n",
    "            movie_page = \"./pages/\" + row['title'] + \".html\"     \n",
    "            html_file = open(movie_page, \"w\")\n",
    "            html_file.write(header)\n",
    "            \n",
    "            html_file.write('<div class=\"row\">')\n",
    "            html_file.write('<h1 style=\"color:white\">' + row['title'] + ' (' + str(row['year']) +')</h1>')\n",
    "            html_file.write(\"<hr></div>\")\n",
    "            \n",
    "            html_file.write('<div class=\"row\">')\n",
    "            html_file.write('<div class=\"medium-5 columns\">')\n",
    "            html_file.write('<div class=\"panel\">')\n",
    "            html_file.write('<img src=\"images/' + row['title'] + '.jpg\" style=\"height:100%;width:375px;box-shadow: 5px 5px 2px #474747\"/>')\n",
    "            html_file.write('</div></div>')\n",
    "            html_file.write('<div class=\"medium-7 columns\">')\n",
    "            html_file.write('<div class=\"panel\">')\n",
    "            html_file.write('<div class=\"medium-4 columns\" style=\"border-right:1px solid #c7c9cc;height:100px\">')\n",
    "            html_file.write('<center><p style=\"font-size:125%\"><b>IMDB</b><br> ' + str(row['rating_imdb']) + '/10</p></center>')\n",
    "            html_file.write('<vr>')\n",
    "            html_file.write('</div><div class=\"medium-4 columns\" style=\"border-right:1px solid #c7c9cc;height:100px\">')\n",
    "            html_file.write('<center><p style=\"font-size:125%\"><b>Metacritic</b><br> ' + str(row['rating_metacritic']) + '%</p></center>')\n",
    "            html_file.write('</div>')\n",
    "            html_file.write('<center><p style=\"font-size:125%\"><b>Rotten Tomatoes</b><br> ' + str(row['rating_rotten']) + '%</p></center>')\n",
    "            html_file.write('<hr>')\n",
    "            \n",
    "            html_file.write('<p><b>Plot:</b> ' + str(row['plot']) + '</p>')\n",
    "            html_file.write('<p><b>Actors:</b> ' + str(row['actors']) + '</p>')\n",
    "            html_file.write('<p><b>Director:</b> ' + str(row['director']) + '</p>')\n",
    "            \n",
    "            html_file.write('<hr>')\n",
    "            html_file.write('<div class=\"medium-4 columns\">')\n",
    "            html_file.write(\"<p><b>Runtime:</b> \" + str(row['duration']) + \"</p>\")\n",
    "            html_file.write('</div><div class=\"medium-4 columns\">')\n",
    "            html_file.write(\"<p><b>Filesize:</b> \" + str(row['filesize']) + \"</p>\")\n",
    "            html_file.write('</div>')\n",
    "            html_file.write(\"<p><b>Resolution:</b> \" + str(row['resolution']) + \"</p>\")\n",
    "            html_file.write('<hr>')\n",
    "            html_file.write(\n",
    "                '<a href=\"file://' + source_dir + row['filename'] + '\" download class=\"button large radius success expand\">Download</a>') \n",
    "            html_file.write(\"</div></div></div>\")\n",
    "\n",
    "            html_file.write(footer)\n",
    "            html_file.close()\n",
    "            \n",
    "        # Opening the browser and presenting the summary html page\n",
    "        webbrowser.open('file://' + os.path.realpath(output_file))\n",
    "    except Exception as e:\n",
    "        print(e)\n",
    "        print(\"***** Error. Maybe try to run the script again but bit later? *****\")\n",
    "        logging.critical('Critical error -- Abort Script')\n",
    "        sys.exit(0)"
   ]
  },
  {
   "cell_type": "code",
   "execution_count": null,
   "metadata": {
    "collapsed": true
   },
   "outputs": [],
   "source": []
  }
 ],
 "metadata": {
  "kernelspec": {
   "display_name": "Python 3",
   "language": "python",
   "name": "python3"
  },
  "language_info": {
   "codemirror_mode": {
    "name": "ipython",
    "version": 3
   },
   "file_extension": ".py",
   "mimetype": "text/x-python",
   "name": "python",
   "nbconvert_exporter": "python",
   "pygments_lexer": "ipython3",
   "version": "3.5.2"
  }
 },
 "nbformat": 4,
 "nbformat_minor": 1
}
